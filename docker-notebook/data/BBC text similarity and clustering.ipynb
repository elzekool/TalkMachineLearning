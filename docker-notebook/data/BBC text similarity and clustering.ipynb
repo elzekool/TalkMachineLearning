{
 "cells": [
  {
   "cell_type": "markdown",
   "metadata": {},
   "source": [
    "# BBC Dataset demo\n",
    "This demo uses a freely available dataset from the BBC (http://mlg.ucd.ie/datasets/bbc.html). We will use this dataset as an example to automatcly cluster documents."
   ]
  },
  {
   "cell_type": "markdown",
   "metadata": {},
   "source": [
    "## Download and extract dataset\n",
    "We will use the raw text dataset. We fill first download the ZIP if not done already and then extract it"
   ]
  },
  {
   "cell_type": "code",
   "execution_count": 1,
   "metadata": {},
   "outputs": [
    {
     "name": "stdout",
     "output_type": "stream",
     "text": [
      "Extract 2232 files from bbc-fulltext.zip\n"
     ]
    }
   ],
   "source": [
    "from urllib.request import urlretrieve\n",
    "from zipfile import ZipFile\n",
    "import os\n",
    "\n",
    "srcUrl = 'http://mlg.ucd.ie/files/datasets/bbc-fulltext.zip'\n",
    "\n",
    "# Create folder if it doesn't exists\n",
    "if not os.path.exists('./bbc-corpus'):\n",
    "    print(\"Create bbc-corpus folder\")\n",
    "    os.makedirs('./bbc-corpus')\n",
    "\n",
    "# Check for existance of ZIP file\n",
    "if not os.path.exists('./bbc-corpus/bbc-fulltext.zip'):\n",
    "    print(\"Download %s\" % srcUrl)\n",
    "    urlretrieve(srcUrl, './bbc-corpus/bbc-fulltext.zip')\n",
    "    \n",
    "# Extract zipFile\n",
    "with ZipFile('./bbc-corpus/bbc-fulltext.zip', 'r') as zipFile:\n",
    "    print(\"Extract %d files from bbc-fulltext.zip\" % len(zipFile.namelist()))\n",
    "    zipFile.extractall('./bbc-corpus')"
   ]
  },
  {
   "cell_type": "markdown",
   "metadata": {},
   "source": [
    "## Extract titles and text body\n",
    "We will go trough all the files and extract the titles and the body of each file."
   ]
  },
  {
   "cell_type": "code",
   "execution_count": 2,
   "metadata": {},
   "outputs": [
    {
     "name": "stdout",
     "output_type": "stream",
     "text": [
      "Japanese growth grinds to a halt\n",
      "Growth in Japan evaporated in the three months to September, sparking renewed concern about an econo...\n"
     ]
    }
   ],
   "source": [
    "# Create two lists\n",
    "item_titles = []\n",
    "item_texts = []\n",
    "\n",
    "# Go trough folders and trough files\n",
    "for subfolder in [ x for x in os.listdir('./bbc-corpus/bbc') if os.path.isdir('./bbc-corpus/bbc/' + x) ]:\n",
    "    for filename in os.listdir('./bbc-corpus/bbc/' + subfolder):\n",
    "        full_filename = './bbc-corpus/bbc/' + subfolder + '/' + filename            \n",
    "        file_contents = open(full_filename, 'r', encoding='iso 8859-15').read().split('\\n')\n",
    "        \n",
    "        # First line is title, then a empty line and then the main body\n",
    "        item_titles.append(file_contents[0])\n",
    "        item_texts.append('\\n'.join(file_contents[2:]))\n",
    "\n",
    "        \n",
    "# Test output\n",
    "print(item_titles[0])\n",
    "print(\"%s...\" % item_texts[0][:100])"
   ]
  },
  {
   "cell_type": "markdown",
   "metadata": {},
   "source": [
    "## Cleanup item texts\n",
    "Cleanup the texts by first removing all non alpha characters. Change it to lowercase. And finally remove all stopwords. "
   ]
  },
  {
   "cell_type": "code",
   "execution_count": 3,
   "metadata": {},
   "outputs": [
    {
     "name": "stdout",
     "output_type": "stream",
     "text": [
      "growth japan evaporated three months september sparking renewed concern economy long decade long trough output period grew annual rate exports usual engine recovery faltered domestic demand stayed subdued corporate investment also fell short growth falls well short expectations mark sixth straight quarter expansion economy stagnated throughout experiencing brief spurts expansion amid long periods doldrums one result deflation prices falling rather rising made japanese shoppers cautious kept spending effect leave economy dependent ever exports recent recovery high oil prices knocked growth rate falling dollar means products shipped us becoming relatively expensive performance third quarter marks sharp downturn earlier year first quarter showed annual growth second showing economists predicting much time around exports slowed capital spending became weaker said hiromichi shirakawa chief economist ubs securities tokyo personal consumption looks good mainly due temporary factors olympics amber light flashing government may find difficult raise taxes policy implement economy picks help deal japan massive public debt\n"
     ]
    }
   ],
   "source": [
    "import re\n",
    "from nltk.corpus import stopwords\n",
    "\n",
    "for idx, item_text in enumerate(item_texts):\n",
    "    # Remove all non alpha characters and change it to lowercase\n",
    "    letters_only = re.sub('[^a-zA-Z]', ' ', item_texts[idx])\n",
    "    \n",
    "    # Split into words by space\n",
    "    words = letters_only.lower().split()\n",
    "    \n",
    "    # Remove stopwords\n",
    "    stopwords_eng = set(stopwords.words(\"english\"))    \n",
    "    useful_words = [x for x in words if not x in stopwords_eng]\n",
    "    \n",
    "    # Store result\n",
    "    item_texts[idx] = ' '.join(useful_words)\n",
    "    \n",
    "# Test output\n",
    "print(item_texts[0])"
   ]
  },
  {
   "cell_type": "markdown",
   "metadata": {},
   "source": [
    "## Create Tf-Idf vectors for all document terms\n",
    "Tf-Idf stands for *term frequency–inverse document frequency*. It is a numerical statistic that is intended to reflect how important a word is to a document in a collection. Words that are mentioned a lot in a document but are not mentioned in the whole collection are deemed important. Also words that are mentioned but are very common in the whole collection are not so important."
   ]
  },
  {
   "cell_type": "code",
   "execution_count": 4,
   "metadata": {},
   "outputs": [
    {
     "name": "stdout",
     "output_type": "stream",
     "text": [
      "  (0, 7133)\t0.218470684903\n",
      "  (0, 8712)\t0.136909168682\n",
      "  (0, 5550)\t0.113098313618\n",
      "  (0, 16881)\t0.0385419019516\n",
      "  (0, 11086)\t0.0386251823441\n",
      "  (0, 14940)\t0.0626387440576\n",
      "  (0, 15708)\t0.0816087970457\n",
      "  (0, 13920)\t0.0857085790592\n",
      "  (0, 3418)\t0.0529644307262\n",
      "  (0, 5081)\t0.228111253998\n",
      "  (0, 9902)\t0.140215681114\n",
      "  (0, 4156)\t0.0709502279929\n",
      "  (0, 17270)\t0.118725961263\n",
      "  (0, 12106)\t0.0786200974898\n",
      "  (0, 12583)\t0.12745195745\n",
      "  (0, 7082)\t0.0786200974898\n",
      "  (0, 672)\t0.126468036854\n",
      "  (0, 13599)\t0.11194906401\n",
      "  (0, 5664)\t0.212277233933\n",
      "  (0, 17840)\t0.0729924498446\n",
      "  (0, 5340)\t0.0713392093451\n",
      "  (0, 13729)\t0.150142768758\n",
      "  (0, 5762)\t0.105538661616\n",
      "  (0, 4758)\t0.0713392093451\n",
      "  (0, 4276)\t0.0546176712257\n",
      "  :\t:\n",
      "  (2224, 7362)\t0.079221984841\n",
      "  (2224, 6273)\t0.0611749242493\n",
      "  (2224, 5009)\t0.0913950019263\n",
      "  (2224, 589)\t0.0733707070073\n",
      "  (2224, 3789)\t0.0774562581156\n",
      "  (2224, 10252)\t0.0563995931765\n",
      "  (2224, 18154)\t0.0477043850245\n",
      "  (2224, 16782)\t0.105315144417\n",
      "  (2224, 12002)\t0.0607865972183\n",
      "  (2224, 12408)\t0.0619934545511\n",
      "  (2224, 18451)\t0.0687262865064\n",
      "  (2224, 14357)\t0.0774562581156\n",
      "  (2224, 10829)\t0.0600473374776\n",
      "  (2224, 5374)\t0.066018559343\n",
      "  (2224, 16148)\t0.083866405342\n",
      "  (2224, 4702)\t0.0643392824646\n",
      "  (2224, 6594)\t0.0695165688275\n",
      "  (2224, 4275)\t0.0498416432496\n",
      "  (2224, 5172)\t0.0563995931765\n",
      "  (2224, 9122)\t0.067292598982\n",
      "  (2224, 18699)\t0.0813103962954\n",
      "  (2224, 17062)\t0.080398675732\n",
      "  (2224, 9687)\t0.0498416432496\n",
      "  (2224, 10312)\t0.0918060946301\n",
      "  (2224, 17563)\t0.0918060946301\n"
     ]
    }
   ],
   "source": [
    "import nltk\n",
    "from sklearn.feature_extraction.text import TfidfVectorizer\n",
    "from nltk.stem.porter import PorterStemmer\n",
    "\n",
    "stemmer = PorterStemmer()\n",
    "\n",
    "def stem_words(words_list, stemmer):\n",
    "    return [stemmer.stem(word) for word in words_list]\n",
    "\n",
    "def tokenize(text):\n",
    "    tokens = nltk.word_tokenize(text)\n",
    "    stems = stem_words(tokens, stemmer)\n",
    "    return stems\n",
    "\n",
    "# Create Tf-Idf vectors from our item_texts\n",
    "tfidf = TfidfVectorizer(tokenizer=tokenize)\n",
    "tfs = tfidf.fit_transform(item_texts)\n",
    "\n",
    "# Test output\n",
    "print(tfs)"
   ]
  },
  {
   "cell_type": "markdown",
   "metadata": {},
   "source": [
    "## See some nearest neighbors\n",
    "We will use nearest neighbors to see if by using cosine similarity we actually get usefull correlations."
   ]
  },
  {
   "cell_type": "code",
   "execution_count": 5,
   "metadata": {},
   "outputs": [
    {
     "name": "stdout",
     "output_type": "stream",
     "text": [
      "Market unfazed by Aurora setback\n",
      " - Market unfazed by Aurora setback (#25)\n",
      " - Peer-to-peer nets 'here to stay' (#1657)\n",
      " - Peer-to-peer nets 'here to stay' (#1578)\n",
      " - Booming markets shed few tears (#217)\n",
      " - Google shares fall as staff sell (#273)\n",
      " - Metlife buys up Citigroup insurer (#47)\n",
      " - Oil prices reach three-month low (#40)\n",
      " - Irish markets reach all-time high (#398)\n",
      " - Seamen sail into biometric future (#1715)\n",
      " - Seamen sail into biometric future (#1722)\n"
     ]
    }
   ],
   "source": [
    "from sklearn.neighbors import NearestNeighbors\n",
    "import numpy as np\n",
    "\n",
    "neigh = NearestNeighbors(metric='cosine', algorithm='brute', n_neighbors=10)\n",
    "neigh.fit(tfs)\n",
    "\n",
    "bill_id = 25\n",
    "\n",
    "print(item_titles[bill_id])\n",
    "for x in neigh.kneighbors(tfs[bill_id], return_distance=False).reshape([ -1 ]):\n",
    "    print(\" - %s (#%d)\" % (item_titles[x], x))"
   ]
  },
  {
   "cell_type": "markdown",
   "metadata": {},
   "source": [
    "## Make clusters\n",
    "We will use K-means with Cosine Distance as distance metric. "
   ]
  },
  {
   "cell_type": "code",
   "execution_count": 6,
   "metadata": {},
   "outputs": [],
   "source": [
    "from nltk.cluster.kmeans import KMeansClusterer\n",
    "from numpy.random import RandomState\n",
    "import random\n",
    "\n",
    "# Use a static random state to make the output reproducable\n",
    "random.seed(100)\n",
    "\n",
    "# Define number of clusters\n",
    "k = 100\n",
    "\n",
    "# Get K-means cluster with cosine as distance metrix\n",
    "\n",
    "kclusterer = KMeansClusterer(k, distance=nltk.cluster.util.cosine_distance, rng=random)\n",
    "\n",
    "# Get assigned clusers (use toarray() to get normal array, sparse-array seems to trigger an exception)\n",
    "assigned_clusters = kclusterer.cluster(tfs.toarray(), assign_clusters=True)"
   ]
  },
  {
   "cell_type": "markdown",
   "metadata": {},
   "source": [
    "## See cluster size distribution\n",
    "As the number of clusters is just choosen arbirtrary lets see the distribution of cluster sizes. In this case we don't expect a complete flat distribution as we can expect some news to be more prominant then others."
   ]
  },
  {
   "cell_type": "code",
   "execution_count": 7,
   "metadata": {},
   "outputs": [
    {
     "data": {
      "image/png": "[encoded data removed]",
      "text/plain": [
       "<matplotlib.figure.Figure at 0x7f6bcfca2978>"
      ]
     },
     "metadata": {},
     "output_type": "display_data"
    }
   ],
   "source": [
    "import matplotlib.pyplot as plt\n",
    "%matplotlib inline\n",
    "\n",
    "plt.hist(assigned_clusters, bins=k)\n",
    "plt.show()"
   ]
  },
  {
   "cell_type": "code",
   "execution_count": 8,
   "metadata": {},
   "outputs": [
    {
     "name": "stdout",
     "output_type": "stream",
     "text": [
      " - Wenger shock at Newcastle dip\n",
      " - Arsenal through on penalties\n",
      " - Chelsea hold Arsenal\n",
      " - Premier League planning Cole date\n",
      " - Wenger dejected as Arsenal slump\n",
      " - Wenger steps up row\n",
      " - Aragones angered by racism fine\n",
      " - Cole refuses to blame van Persie\n",
      " - Wenger signs new deal\n",
      " - Klinsmann issues Lehmann warning\n",
      " - Wenger keeping faith with Almunia\n",
      " - Robben and Cole earn Chelsea win\n",
      " - Wenger handed summer war chest\n",
      " - Edu describes tunnel fracas\n",
      " - Campbell rescues Arsenal\n",
      " - Campbell lifts lid on United feud\n",
      " - Prutton poised for lengthy FA ban\n",
      " - Ferguson urges Henry punishment\n",
      " - Wenger rules out new keeper\n",
      " - Highbury tunnel players in clear\n",
      " - Van Nistelrooy set to return\n"
     ]
    }
   ],
   "source": [
    "test_k = 3\n",
    "for x in range(0, len(item_titles)):\n",
    "    if assigned_clusters[x] == test_k:\n",
    "        print(\" - %s\" % item_titles[x])"
   ]
  },
  {
   "cell_type": "code",
   "execution_count": null,
   "metadata": {
    "collapsed": true
   },
   "outputs": [],
   "source": []
  }
 ],
 "metadata": {
  "kernelspec": {
   "display_name": "Python 3",
   "language": "python",
   "name": "python3"
  },
  "language_info": {
   "codemirror_mode": {
    "name": "ipython",
    "version": 3
   },
   "file_extension": ".py",
   "mimetype": "text/x-python",
   "name": "python",
   "nbconvert_exporter": "python",
   "pygments_lexer": "ipython3",
   "version": "3.6.2"
  }
 },
 "nbformat": 4,
 "nbformat_minor": 2
}
