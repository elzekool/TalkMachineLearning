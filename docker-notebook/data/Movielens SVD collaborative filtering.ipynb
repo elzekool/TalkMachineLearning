{
 "cells": [
  {
   "cell_type": "markdown",
   "metadata": {},
   "source": [
    "# Movielens SVD collaborative filtering example\n",
    "This example will use the 1M Movielens dataset (http://grouplens.org/datasets/movielens/1m/).\n",
    "\n",
    "This dataset contains ~1,000,000 ratings from ~6000 users on ~3900 movies."
   ]
  },
  {
   "cell_type": "markdown",
   "metadata": {},
   "source": [
    "## Download and extract dataset\n",
    "We will use the raw text dataset. We fill first download the ZIP if not done already and then extract it"
   ]
  },
  {
   "cell_type": "code",
   "execution_count": 1,
   "metadata": {},
   "outputs": [
    {
     "name": "stdout",
     "output_type": "stream",
     "text": [
      "Extract 5 files from ml-1m.zip\n"
     ]
    }
   ],
   "source": [
    "from urllib.request import urlretrieve\n",
    "from zipfile import ZipFile\n",
    "import os\n",
    "\n",
    "srcUrl = 'http://files.grouplens.org/datasets/movielens/ml-1m.zip'\n",
    "\n",
    "# Create folder if it doesn't exists\n",
    "if not os.path.exists('./movielens-1m'):\n",
    "    print(\"Create movielens-1m folder\")\n",
    "    os.makedirs('./movielens-1m')\n",
    "\n",
    "# Check for existance of ZIP file\n",
    "if not os.path.exists('./movielens-1m/ml-1m.zip'):\n",
    "    print(\"Download %s\" % srcUrl)\n",
    "    urlretrieve(srcUrl, './movielens-1m/ml-1m.zip')\n",
    "    \n",
    "# Extract zipFile\n",
    "with ZipFile('./movielens-1m/ml-1m.zip', 'r') as zipFile:\n",
    "    print(\"Extract %d files from ml-1m.zip\" % len(zipFile.namelist()))\n",
    "    zipFile.extractall('./movielens-1m')"
   ]
  },
  {
   "cell_type": "markdown",
   "metadata": {},
   "source": [
    "## Create dataframes\n",
    "Extract the data from the individual files and created pandas DataFrame's from them"
   ]
  },
  {
   "cell_type": "code",
   "execution_count": null,
   "metadata": {
    "collapsed": true
   },
   "outputs": [],
   "source": [
    "import pandas as pd\n",
    "import numpy as np\n",
    "\n",
    "ratings_list = [i.strip().split(\"::\") for i in open('./movielens-1m/ml-1m/ratings.dat', 'r', encoding='iso-8859-1').readlines()]\n",
    "users_list = [i.strip().split(\"::\") for i in open('./movielens-1m/ml-1m/users.dat', 'r', encoding='iso-8859-1').readlines()]\n",
    "movies_list = [i.strip().split(\"::\") for i in open('./movielens-1m/ml-1m/movies.dat', 'r', encoding='iso-8859-1').readlines()]\n",
    "\n",
    "ratings_df = pd.DataFrame(ratings_list, columns = ['UserID', 'MovieID', 'Rating', 'Timestamp'], dtype = int)\n",
    "movies_df = pd.DataFrame(movies_list, columns = ['MovieID', 'Title', 'Genres'])\n",
    "movies_df['MovieID'] = movies_df['MovieID'].apply(pd.to_numeric)"
   ]
  },
  {
   "cell_type": "code",
   "execution_count": 43,
   "metadata": {},
   "outputs": [
    {
     "data": {
      "text/html": [
       "<div>\n",
       "<table border=\"1\" class=\"dataframe\">\n",
       "  <thead>\n",
       "    <tr style=\"text-align: right;\">\n",
       "      <th></th>\n",
       "      <th>MovieID</th>\n",
       "      <th>Title</th>\n",
       "      <th>Genres</th>\n",
       "    </tr>\n",
       "  </thead>\n",
       "  <tbody>\n",
       "    <tr>\n",
       "      <th>0</th>\n",
       "      <td>1</td>\n",
       "      <td>Toy Story (1995)</td>\n",
       "      <td>Animation|Children's|Comedy</td>\n",
       "    </tr>\n",
       "    <tr>\n",
       "      <th>1</th>\n",
       "      <td>2</td>\n",
       "      <td>Jumanji (1995)</td>\n",
       "      <td>Adventure|Children's|Fantasy</td>\n",
       "    </tr>\n",
       "    <tr>\n",
       "      <th>2</th>\n",
       "      <td>3</td>\n",
       "      <td>Grumpier Old Men (1995)</td>\n",
       "      <td>Comedy|Romance</td>\n",
       "    </tr>\n",
       "    <tr>\n",
       "      <th>3</th>\n",
       "      <td>4</td>\n",
       "      <td>Waiting to Exhale (1995)</td>\n",
       "      <td>Comedy|Drama</td>\n",
       "    </tr>\n",
       "    <tr>\n",
       "      <th>4</th>\n",
       "      <td>5</td>\n",
       "      <td>Father of the Bride Part II (1995)</td>\n",
       "      <td>Comedy</td>\n",
       "    </tr>\n",
       "  </tbody>\n",
       "</table>\n",
       "</div>"
      ],
      "text/plain": [
       "   MovieID                               Title                        Genres\n",
       "0        1                    Toy Story (1995)   Animation|Children's|Comedy\n",
       "1        2                      Jumanji (1995)  Adventure|Children's|Fantasy\n",
       "2        3             Grumpier Old Men (1995)                Comedy|Romance\n",
       "3        4            Waiting to Exhale (1995)                  Comedy|Drama\n",
       "4        5  Father of the Bride Part II (1995)                        Comedy"
      ]
     },
     "execution_count": 43,
     "metadata": {},
     "output_type": "execute_result"
    }
   ],
   "source": [
    "movies_df.head()"
   ]
  },
  {
   "cell_type": "code",
   "execution_count": 6,
   "metadata": {},
   "outputs": [
    {
     "data": {
      "text/html": [
       "<div>\n",
       "<table border=\"1\" class=\"dataframe\">\n",
       "  <thead>\n",
       "    <tr style=\"text-align: right;\">\n",
       "      <th></th>\n",
       "      <th>UserID</th>\n",
       "      <th>MovieID</th>\n",
       "      <th>Rating</th>\n",
       "      <th>Timestamp</th>\n",
       "    </tr>\n",
       "  </thead>\n",
       "  <tbody>\n",
       "    <tr>\n",
       "      <th>0</th>\n",
       "      <td>1</td>\n",
       "      <td>1193</td>\n",
       "      <td>5</td>\n",
       "      <td>978300760</td>\n",
       "    </tr>\n",
       "    <tr>\n",
       "      <th>1</th>\n",
       "      <td>1</td>\n",
       "      <td>661</td>\n",
       "      <td>3</td>\n",
       "      <td>978302109</td>\n",
       "    </tr>\n",
       "    <tr>\n",
       "      <th>2</th>\n",
       "      <td>1</td>\n",
       "      <td>914</td>\n",
       "      <td>3</td>\n",
       "      <td>978301968</td>\n",
       "    </tr>\n",
       "    <tr>\n",
       "      <th>3</th>\n",
       "      <td>1</td>\n",
       "      <td>3408</td>\n",
       "      <td>4</td>\n",
       "      <td>978300275</td>\n",
       "    </tr>\n",
       "    <tr>\n",
       "      <th>4</th>\n",
       "      <td>1</td>\n",
       "      <td>2355</td>\n",
       "      <td>5</td>\n",
       "      <td>978824291</td>\n",
       "    </tr>\n",
       "  </tbody>\n",
       "</table>\n",
       "</div>"
      ],
      "text/plain": [
       "   UserID  MovieID  Rating  Timestamp\n",
       "0       1     1193       5  978300760\n",
       "1       1      661       3  978302109\n",
       "2       1      914       3  978301968\n",
       "3       1     3408       4  978300275\n",
       "4       1     2355       5  978824291"
      ]
     },
     "execution_count": 6,
     "metadata": {},
     "output_type": "execute_result"
    }
   ],
   "source": [
    "ratings_df.head()"
   ]
  },
  {
   "cell_type": "markdown",
   "metadata": {},
   "source": [
    "## Split into a training and test set\n",
    "Split the data into a training and a test set. We use a split of 25% in this case"
   ]
  },
  {
   "cell_type": "code",
   "execution_count": 45,
   "metadata": {
    "collapsed": true
   },
   "outputs": [],
   "source": [
    "# Initialze a RandomState with a constant seed to make the split consistent\n",
    "from numpy.random import RandomState\n",
    "prng = RandomState(1)\n",
    "\n",
    "# Split the dataset into a training and test set\n",
    "from sklearn.model_selection import train_test_split\n",
    "train_data, test_data = train_test_split(ratings_df, test_size = .25, random_state=prng)"
   ]
  },
  {
   "cell_type": "markdown",
   "metadata": {},
   "source": [
    "## Create pivot tables\n",
    "Create pivot tables for training and testset. On one axis are the UserID's on the other axis are the MovieIds. Fill in the empty values with zero's"
   ]
  },
  {
   "cell_type": "code",
   "execution_count": null,
   "metadata": {
    "collapsed": true
   },
   "outputs": [],
   "source": [
    "R_train_df = train_data.pivot(index = 'UserID', columns ='MovieID', values = 'Rating').fillna(0)\n",
    "R_test_df = test_data.pivot(index = 'UserID', columns ='MovieID', values = 'Rating').fillna(0)\n",
    "\n",
    "R_train_df.head()"
   ]
  },
  {
   "cell_type": "markdown",
   "metadata": {},
   "source": [
    "## De-mean the data\n",
    "Every user rates things differently, where one gives a 5 star rating if he just liked the movie some other users may never give a 4 or higher so average out the data."
   ]
  },
  {
   "cell_type": "code",
   "execution_count": null,
   "metadata": {
    "collapsed": true
   },
   "outputs": [],
   "source": [
    "R_train_df.as_matrix().shape\n",
    "R = R_df.as_matrix()\n",
    "user_ratings_mean = np.mean(R, axis = 1)\n",
    "R_demeaned = R - user_ratings_mean.reshape(-1, 1)"
   ]
  },
  {
   "cell_type": "markdown",
   "metadata": {},
   "source": [
    "## Perform the Singular Value Decomposition\n",
    "Use scipy to do the Singular Value Decomposition. Limit the number of latent factors to 50."
   ]
  },
  {
   "cell_type": "code",
   "execution_count": 59,
   "metadata": {
    "collapsed": true
   },
   "outputs": [],
   "source": [
    "from scipy.sparse.linalg import svds\n",
    "U, sigma, Vt = svds(R_demeaned, k = 100)\n",
    "\n",
    "sigma = np.diag(sigma)"
   ]
  },
  {
   "cell_type": "markdown",
   "metadata": {},
   "source": [
    "## Use the Decomposed Matrices to make the predicted ratings\n",
    "With U, sigma and Vt we can recreate the matrix using k (50) latent factors. Then re-add the user mean"
   ]
  },
  {
   "cell_type": "code",
   "execution_count": 60,
   "metadata": {},
   "outputs": [
    {
     "data": {
      "text/html": [
       "<div>\n",
       "<table border=\"1\" class=\"dataframe\">\n",
       "  <thead>\n",
       "    <tr style=\"text-align: right;\">\n",
       "      <th>MovieID</th>\n",
       "      <th>1</th>\n",
       "      <th>2</th>\n",
       "      <th>3</th>\n",
       "      <th>4</th>\n",
       "      <th>5</th>\n",
       "      <th>6</th>\n",
       "      <th>7</th>\n",
       "      <th>8</th>\n",
       "      <th>9</th>\n",
       "      <th>10</th>\n",
       "      <th>...</th>\n",
       "      <th>3943</th>\n",
       "      <th>3944</th>\n",
       "      <th>3945</th>\n",
       "      <th>3946</th>\n",
       "      <th>3947</th>\n",
       "      <th>3948</th>\n",
       "      <th>3949</th>\n",
       "      <th>3950</th>\n",
       "      <th>3951</th>\n",
       "      <th>3952</th>\n",
       "    </tr>\n",
       "  </thead>\n",
       "  <tbody>\n",
       "    <tr>\n",
       "      <th>0</th>\n",
       "      <td>3.637457</td>\n",
       "      <td>0.162269</td>\n",
       "      <td>0.087712</td>\n",
       "      <td>0.087208</td>\n",
       "      <td>0.110059</td>\n",
       "      <td>-0.144687</td>\n",
       "      <td>0.049394</td>\n",
       "      <td>0.108098</td>\n",
       "      <td>0.013329</td>\n",
       "      <td>0.061780</td>\n",
       "      <td>...</td>\n",
       "      <td>-0.031152</td>\n",
       "      <td>0.028462</td>\n",
       "      <td>0.018501</td>\n",
       "      <td>-0.033629</td>\n",
       "      <td>-0.030366</td>\n",
       "      <td>0.393260</td>\n",
       "      <td>-0.103090</td>\n",
       "      <td>0.044514</td>\n",
       "      <td>0.030920</td>\n",
       "      <td>0.053901</td>\n",
       "    </tr>\n",
       "    <tr>\n",
       "      <th>1</th>\n",
       "      <td>0.020086</td>\n",
       "      <td>0.228464</td>\n",
       "      <td>0.075369</td>\n",
       "      <td>-0.045735</td>\n",
       "      <td>0.009402</td>\n",
       "      <td>0.576817</td>\n",
       "      <td>-0.136306</td>\n",
       "      <td>0.059655</td>\n",
       "      <td>0.012000</td>\n",
       "      <td>1.003151</td>\n",
       "      <td>...</td>\n",
       "      <td>0.012940</td>\n",
       "      <td>-0.019715</td>\n",
       "      <td>-0.019530</td>\n",
       "      <td>0.063508</td>\n",
       "      <td>-0.027315</td>\n",
       "      <td>0.007177</td>\n",
       "      <td>-0.080022</td>\n",
       "      <td>0.026943</td>\n",
       "      <td>-0.058286</td>\n",
       "      <td>0.112306</td>\n",
       "    </tr>\n",
       "    <tr>\n",
       "      <th>2</th>\n",
       "      <td>1.087179</td>\n",
       "      <td>0.275231</td>\n",
       "      <td>-0.073749</td>\n",
       "      <td>0.016847</td>\n",
       "      <td>0.018586</td>\n",
       "      <td>0.020935</td>\n",
       "      <td>-0.048331</td>\n",
       "      <td>0.041952</td>\n",
       "      <td>0.022030</td>\n",
       "      <td>0.682441</td>\n",
       "      <td>...</td>\n",
       "      <td>-0.026490</td>\n",
       "      <td>-0.010436</td>\n",
       "      <td>0.020250</td>\n",
       "      <td>0.050102</td>\n",
       "      <td>-0.056764</td>\n",
       "      <td>0.113136</td>\n",
       "      <td>0.069312</td>\n",
       "      <td>0.072299</td>\n",
       "      <td>-0.006637</td>\n",
       "      <td>0.120152</td>\n",
       "    </tr>\n",
       "    <tr>\n",
       "      <th>3</th>\n",
       "      <td>-0.434535</td>\n",
       "      <td>0.015223</td>\n",
       "      <td>-0.034736</td>\n",
       "      <td>0.066534</td>\n",
       "      <td>0.018288</td>\n",
       "      <td>0.274640</td>\n",
       "      <td>-0.107499</td>\n",
       "      <td>0.013341</td>\n",
       "      <td>0.001894</td>\n",
       "      <td>-0.307092</td>\n",
       "      <td>...</td>\n",
       "      <td>-0.037843</td>\n",
       "      <td>-0.011654</td>\n",
       "      <td>-0.017948</td>\n",
       "      <td>-0.056821</td>\n",
       "      <td>-0.060781</td>\n",
       "      <td>0.057800</td>\n",
       "      <td>-0.060168</td>\n",
       "      <td>-0.077854</td>\n",
       "      <td>0.000365</td>\n",
       "      <td>-0.071464</td>\n",
       "    </tr>\n",
       "    <tr>\n",
       "      <th>4</th>\n",
       "      <td>0.344137</td>\n",
       "      <td>-0.332776</td>\n",
       "      <td>0.027825</td>\n",
       "      <td>0.253913</td>\n",
       "      <td>-0.020563</td>\n",
       "      <td>0.909716</td>\n",
       "      <td>-0.030355</td>\n",
       "      <td>0.027459</td>\n",
       "      <td>-0.141792</td>\n",
       "      <td>0.197430</td>\n",
       "      <td>...</td>\n",
       "      <td>0.081974</td>\n",
       "      <td>0.051466</td>\n",
       "      <td>0.036577</td>\n",
       "      <td>-0.083680</td>\n",
       "      <td>-0.023133</td>\n",
       "      <td>0.022863</td>\n",
       "      <td>0.348144</td>\n",
       "      <td>-0.020243</td>\n",
       "      <td>0.097504</td>\n",
       "      <td>-0.116012</td>\n",
       "    </tr>\n",
       "  </tbody>\n",
       "</table>\n",
       "<p>5 rows × 3682 columns</p>\n",
       "</div>"
      ],
      "text/plain": [
       "MovieID      1         2         3         4         5         6         7     \\\n",
       "0        3.637457  0.162269  0.087712  0.087208  0.110059 -0.144687  0.049394   \n",
       "1        0.020086  0.228464  0.075369 -0.045735  0.009402  0.576817 -0.136306   \n",
       "2        1.087179  0.275231 -0.073749  0.016847  0.018586  0.020935 -0.048331   \n",
       "3       -0.434535  0.015223 -0.034736  0.066534  0.018288  0.274640 -0.107499   \n",
       "4        0.344137 -0.332776  0.027825  0.253913 -0.020563  0.909716 -0.030355   \n",
       "\n",
       "MovieID      8         9         10      ...         3943      3944      3945  \\\n",
       "0        0.108098  0.013329  0.061780    ...    -0.031152  0.028462  0.018501   \n",
       "1        0.059655  0.012000  1.003151    ...     0.012940 -0.019715 -0.019530   \n",
       "2        0.041952  0.022030  0.682441    ...    -0.026490 -0.010436  0.020250   \n",
       "3        0.013341  0.001894 -0.307092    ...    -0.037843 -0.011654 -0.017948   \n",
       "4        0.027459 -0.141792  0.197430    ...     0.081974  0.051466  0.036577   \n",
       "\n",
       "MovieID      3946      3947      3948      3949      3950      3951      3952  \n",
       "0       -0.033629 -0.030366  0.393260 -0.103090  0.044514  0.030920  0.053901  \n",
       "1        0.063508 -0.027315  0.007177 -0.080022  0.026943 -0.058286  0.112306  \n",
       "2        0.050102 -0.056764  0.113136  0.069312  0.072299 -0.006637  0.120152  \n",
       "3       -0.056821 -0.060781  0.057800 -0.060168 -0.077854  0.000365 -0.071464  \n",
       "4       -0.083680 -0.023133  0.022863  0.348144 -0.020243  0.097504 -0.116012  \n",
       "\n",
       "[5 rows x 3682 columns]"
      ]
     },
     "execution_count": 60,
     "metadata": {},
     "output_type": "execute_result"
    }
   ],
   "source": [
    "all_user_predicted_ratings = np.dot(np.dot(U, sigma), Vt) + user_ratings_mean.reshape(-1, 1)\n",
    "preds_df = pd.DataFrame(all_user_predicted_ratings, columns = R_df.columns)\n",
    "\n",
    "preds_df.head()"
   ]
  },
  {
   "cell_type": "markdown",
   "metadata": {},
   "source": [
    "## Compare results against our test set"
   ]
  },
  {
   "cell_type": "code",
   "execution_count": 61,
   "metadata": {},
   "outputs": [
    {
     "name": "stdout",
     "output_type": "stream",
     "text": [
      "Predictions RMSE: 3.54\n"
     ]
    }
   ],
   "source": [
    "from sklearn.metrics import mean_squared_error\n",
    "from math import sqrt\n",
    "\n",
    "def rmse(prediction, ground_truth):\n",
    "    prediction = prediction[ground_truth.nonzero()].flatten()\n",
    "    ground_truth = ground_truth[ground_truth.nonzero()].flatten()\n",
    "    return sqrt(mean_squared_error(prediction, ground_truth))\n",
    "\n",
    "print('Predictions RMSE: %0.2f' % rmse(all_user_predicted_ratings, R_test_df.as_matrix()))"
   ]
  },
  {
   "cell_type": "markdown",
   "metadata": {},
   "source": [
    "## Get recommended movie list"
   ]
  },
  {
   "cell_type": "code",
   "execution_count": 26,
   "metadata": {
    "collapsed": true
   },
   "outputs": [],
   "source": [
    "def recommend_movies(predictions_df, userID, movies_df, original_ratings_df, num_recommendations=5):\n",
    "    \n",
    "    # Get and sort the user's predictions\n",
    "    user_row_number = userID - 1 # UserID starts at 1, not 0\n",
    "    sorted_user_predictions = predictions_df.iloc[user_row_number].sort_values(ascending=False)\n",
    "    \n",
    "    # Get the user's data and merge in the movie information.\n",
    "    user_data = original_ratings_df[original_ratings_df.UserID == (userID)]\n",
    "    user_full = (user_data.merge(movies_df, how = 'left', left_on = 'MovieID', right_on = 'MovieID').\n",
    "                     sort_values(['Rating'], ascending=False)\n",
    "                 )\n",
    "\n",
    "    print('User %d has already rated %d movies.' % (userID, user_full.shape[0]))\n",
    "    print('Recommending the highest %d predicted ratings movies not already rated.' % num_recommendations)\n",
    "    \n",
    "    # Recommend the highest predicted rating movies that the user hasn't seen yet.\n",
    "    recommendations = (movies_df[~movies_df['MovieID'].isin(user_full['MovieID'])].\n",
    "         merge(pd.DataFrame(sorted_user_predictions).reset_index(), how = 'left',\n",
    "               left_on = 'MovieID',\n",
    "               right_on = 'MovieID').\n",
    "         rename(columns = {user_row_number: 'Predictions'}).\n",
    "         sort_values('Predictions', ascending = False).\n",
    "                       iloc[:num_recommendations, :-1]\n",
    "                      )\n",
    "\n",
    "    return user_full, recommendations, sorted_user_predictions\n",
    "\n",
    "# Get recommendations\n",
    "already_rated, recommendations, sorted_user_predictions = recommend_movies(preds_df, 5, movies_df, ratings_df, 10)"
   ]
  },
  {
   "cell_type": "code",
   "execution_count": 35,
   "metadata": {},
   "outputs": [
    {
     "data": {
      "text/html": [
       "<div>\n",
       "<table border=\"1\" class=\"dataframe\">\n",
       "  <thead>\n",
       "    <tr style=\"text-align: right;\">\n",
       "      <th></th>\n",
       "      <th>UserID</th>\n",
       "      <th>MovieID</th>\n",
       "      <th>Rating</th>\n",
       "      <th>Timestamp</th>\n",
       "      <th>Title</th>\n",
       "      <th>Genres</th>\n",
       "    </tr>\n",
       "  </thead>\n",
       "  <tbody>\n",
       "    <tr>\n",
       "      <th>72</th>\n",
       "      <td>5</td>\n",
       "      <td>2571</td>\n",
       "      <td>5</td>\n",
       "      <td>978244493</td>\n",
       "      <td>Matrix, The (1999)</td>\n",
       "      <td>Action|Sci-Fi|Thriller</td>\n",
       "    </tr>\n",
       "    <tr>\n",
       "      <th>172</th>\n",
       "      <td>5</td>\n",
       "      <td>29</td>\n",
       "      <td>5</td>\n",
       "      <td>978245065</td>\n",
       "      <td>City of Lost Children, The (1995)</td>\n",
       "      <td>Adventure|Sci-Fi</td>\n",
       "    </tr>\n",
       "    <tr>\n",
       "      <th>116</th>\n",
       "      <td>5</td>\n",
       "      <td>2599</td>\n",
       "      <td>5</td>\n",
       "      <td>978242323</td>\n",
       "      <td>Election (1999)</td>\n",
       "      <td>Comedy</td>\n",
       "    </tr>\n",
       "    <tr>\n",
       "      <th>114</th>\n",
       "      <td>5</td>\n",
       "      <td>1213</td>\n",
       "      <td>5</td>\n",
       "      <td>978244177</td>\n",
       "      <td>GoodFellas (1990)</td>\n",
       "      <td>Crime|Drama</td>\n",
       "    </tr>\n",
       "    <tr>\n",
       "      <th>142</th>\n",
       "      <td>5</td>\n",
       "      <td>1089</td>\n",
       "      <td>5</td>\n",
       "      <td>978244205</td>\n",
       "      <td>Reservoir Dogs (1992)</td>\n",
       "      <td>Crime|Thriller</td>\n",
       "    </tr>\n",
       "    <tr>\n",
       "      <th>28</th>\n",
       "      <td>5</td>\n",
       "      <td>2997</td>\n",
       "      <td>5</td>\n",
       "      <td>978241556</td>\n",
       "      <td>Being John Malkovich (1999)</td>\n",
       "      <td>Comedy</td>\n",
       "    </tr>\n",
       "    <tr>\n",
       "      <th>144</th>\n",
       "      <td>5</td>\n",
       "      <td>913</td>\n",
       "      <td>5</td>\n",
       "      <td>978242740</td>\n",
       "      <td>Maltese Falcon, The (1941)</td>\n",
       "      <td>Film-Noir|Mystery</td>\n",
       "    </tr>\n",
       "    <tr>\n",
       "      <th>46</th>\n",
       "      <td>5</td>\n",
       "      <td>1046</td>\n",
       "      <td>5</td>\n",
       "      <td>978244114</td>\n",
       "      <td>Beautiful Thing (1996)</td>\n",
       "      <td>Drama|Romance</td>\n",
       "    </tr>\n",
       "    <tr>\n",
       "      <th>150</th>\n",
       "      <td>5</td>\n",
       "      <td>1732</td>\n",
       "      <td>5</td>\n",
       "      <td>978245740</td>\n",
       "      <td>Big Lebowski, The (1998)</td>\n",
       "      <td>Comedy|Crime|Mystery|Thriller</td>\n",
       "    </tr>\n",
       "    <tr>\n",
       "      <th>21</th>\n",
       "      <td>5</td>\n",
       "      <td>1250</td>\n",
       "      <td>5</td>\n",
       "      <td>978241112</td>\n",
       "      <td>Bridge on the River Kwai, The (1957)</td>\n",
       "      <td>Drama|War</td>\n",
       "    </tr>\n",
       "  </tbody>\n",
       "</table>\n",
       "</div>"
      ],
      "text/plain": [
       "     UserID  MovieID  Rating  Timestamp                                 Title  \\\n",
       "72        5     2571       5  978244493                    Matrix, The (1999)   \n",
       "172       5       29       5  978245065     City of Lost Children, The (1995)   \n",
       "116       5     2599       5  978242323                       Election (1999)   \n",
       "114       5     1213       5  978244177                     GoodFellas (1990)   \n",
       "142       5     1089       5  978244205                 Reservoir Dogs (1992)   \n",
       "28        5     2997       5  978241556           Being John Malkovich (1999)   \n",
       "144       5      913       5  978242740            Maltese Falcon, The (1941)   \n",
       "46        5     1046       5  978244114                Beautiful Thing (1996)   \n",
       "150       5     1732       5  978245740              Big Lebowski, The (1998)   \n",
       "21        5     1250       5  978241112  Bridge on the River Kwai, The (1957)   \n",
       "\n",
       "                            Genres  \n",
       "72          Action|Sci-Fi|Thriller  \n",
       "172               Adventure|Sci-Fi  \n",
       "116                         Comedy  \n",
       "114                    Crime|Drama  \n",
       "142                 Crime|Thriller  \n",
       "28                          Comedy  \n",
       "144              Film-Noir|Mystery  \n",
       "46                   Drama|Romance  \n",
       "150  Comedy|Crime|Mystery|Thriller  \n",
       "21                       Drama|War  "
      ]
     },
     "execution_count": 35,
     "metadata": {},
     "output_type": "execute_result"
    }
   ],
   "source": [
    "already_rated.head(10)"
   ]
  },
  {
   "cell_type": "code",
   "execution_count": 36,
   "metadata": {},
   "outputs": [
    {
     "data": {
      "text/html": [
       "<div>\n",
       "<table border=\"1\" class=\"dataframe\">\n",
       "  <thead>\n",
       "    <tr style=\"text-align: right;\">\n",
       "      <th></th>\n",
       "      <th>MovieID</th>\n",
       "      <th>Title</th>\n",
       "      <th>Genres</th>\n",
       "    </tr>\n",
       "  </thead>\n",
       "  <tbody>\n",
       "    <tr>\n",
       "      <th>2137</th>\n",
       "      <td>2336</td>\n",
       "      <td>Elizabeth (1998)</td>\n",
       "      <td>Drama</td>\n",
       "    </tr>\n",
       "    <tr>\n",
       "      <th>202</th>\n",
       "      <td>223</td>\n",
       "      <td>Clerks (1994)</td>\n",
       "      <td>Comedy</td>\n",
       "    </tr>\n",
       "    <tr>\n",
       "      <th>2928</th>\n",
       "      <td>3175</td>\n",
       "      <td>Galaxy Quest (1999)</td>\n",
       "      <td>Adventure|Comedy|Sci-Fi</td>\n",
       "    </tr>\n",
       "    <tr>\n",
       "      <th>1535</th>\n",
       "      <td>1673</td>\n",
       "      <td>Boogie Nights (1997)</td>\n",
       "      <td>Drama</td>\n",
       "    </tr>\n",
       "    <tr>\n",
       "      <th>2868</th>\n",
       "      <td>3114</td>\n",
       "      <td>Toy Story 2 (1999)</td>\n",
       "      <td>Animation|Children's|Comedy</td>\n",
       "    </tr>\n",
       "    <tr>\n",
       "      <th>721</th>\n",
       "      <td>778</td>\n",
       "      <td>Trainspotting (1996)</td>\n",
       "      <td>Drama</td>\n",
       "    </tr>\n",
       "    <tr>\n",
       "      <th>212</th>\n",
       "      <td>235</td>\n",
       "      <td>Ed Wood (1994)</td>\n",
       "      <td>Comedy|Drama</td>\n",
       "    </tr>\n",
       "    <tr>\n",
       "      <th>420</th>\n",
       "      <td>457</td>\n",
       "      <td>Fugitive, The (1993)</td>\n",
       "      <td>Action|Thriller</td>\n",
       "    </tr>\n",
       "    <tr>\n",
       "      <th>1019</th>\n",
       "      <td>1094</td>\n",
       "      <td>Crying Game, The (1992)</td>\n",
       "      <td>Drama|Romance|War</td>\n",
       "    </tr>\n",
       "    <tr>\n",
       "      <th>2190</th>\n",
       "      <td>2396</td>\n",
       "      <td>Shakespeare in Love (1998)</td>\n",
       "      <td>Comedy|Romance</td>\n",
       "    </tr>\n",
       "  </tbody>\n",
       "</table>\n",
       "</div>"
      ],
      "text/plain": [
       "      MovieID                       Title                       Genres\n",
       "2137     2336            Elizabeth (1998)                        Drama\n",
       "202       223               Clerks (1994)                       Comedy\n",
       "2928     3175         Galaxy Quest (1999)      Adventure|Comedy|Sci-Fi\n",
       "1535     1673        Boogie Nights (1997)                        Drama\n",
       "2868     3114          Toy Story 2 (1999)  Animation|Children's|Comedy\n",
       "721       778        Trainspotting (1996)                        Drama\n",
       "212       235              Ed Wood (1994)                 Comedy|Drama\n",
       "420       457        Fugitive, The (1993)              Action|Thriller\n",
       "1019     1094     Crying Game, The (1992)            Drama|Romance|War\n",
       "2190     2396  Shakespeare in Love (1998)               Comedy|Romance"
      ]
     },
     "execution_count": 36,
     "metadata": {},
     "output_type": "execute_result"
    }
   ],
   "source": [
    "recommendations.head(10)"
   ]
  },
  {
   "cell_type": "code",
   "execution_count": null,
   "metadata": {
    "collapsed": true
   },
   "outputs": [],
   "source": []
  }
 ],
 "metadata": {
  "kernelspec": {
   "display_name": "Python 3",
   "language": "python",
   "name": "python3"
  },
  "language_info": {
   "codemirror_mode": {
    "name": "ipython",
    "version": 3
   },
   "file_extension": ".py",
   "mimetype": "text/x-python",
   "name": "python",
   "nbconvert_exporter": "python",
   "pygments_lexer": "ipython3",
   "version": "3.6.2"
  }
 },
 "nbformat": 4,
 "nbformat_minor": 2
}
