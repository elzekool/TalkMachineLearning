{
 "cells": [
  {
   "cell_type": "markdown",
   "metadata": {},
   "source": [
    "# K-means clustering example\n",
    "\n",
    "In this example we will use K-means clustering to make clusters of a 2 dimensional\n",
    "dataset. We will use the IRIS toyset as example data"
   ]
  },
  {
   "cell_type": "code",
   "execution_count": 1,
   "metadata": {
    "collapsed": true
   },
   "outputs": [],
   "source": [
    "%matplotlib inline\n",
    "\n",
    "from sklearn import cluster, datasets, mixture\n",
    "import numpy as np\n",
    "from numpy.random import RandomState\n",
    "import matplotlib.pyplot as plt\n",
    "\n",
    "# load data\n",
    "iris = datasets.load_iris()\n",
    "X_iris = iris.data[:, 1::2 ]"
   ]
  },
  {
   "cell_type": "markdown",
   "metadata": {},
   "source": [
    "## Visualisation of the input data\n",
    "Here you see a scatterplot of the two dimensions in the dataset. What the data represents is not important in this case"
   ]
  },
  {
   "cell_type": "code",
   "execution_count": 2,
   "metadata": {},
   "outputs": [
    {
     "data": {
      "image/png": "[encoded data removed]",
      "text/plain": [
       "<matplotlib.figure.Figure at 0x7fd39536f390>"
      ]
     },
     "metadata": {},
     "output_type": "display_data"
    }
   ],
   "source": [
    "plt.scatter(X_iris[:, 0], X_iris[:, 1], cmap='Set1')\n",
    "plt.show()"
   ]
  },
  {
   "cell_type": "markdown",
   "metadata": {},
   "source": [
    "## Cluster the data\n",
    "Use K-means clustering to make clusters. Each cluster is assigned a numeric label. What K-means does is try to find centers where the distance to each point is the least. There are multiple calculations for distance but as we are using a scatterplot the default distance measure, euclidean distance is appropiate. "
   ]
  },
  {
   "cell_type": "code",
   "execution_count": null,
   "metadata": {
    "collapsed": true
   },
   "outputs": [],
   "source": [
    "# Use a static random state to make the output reproducable\n",
    "prng = RandomState(100)\n",
    "\n",
    "# Do the clustering\n",
    "k_means = cluster.KMeans(n_clusters=2, algorithm='full', random_state=prng)\n",
    "k_means.fit(X_iris) \n",
    "labels = k_means.labels_\n",
    "centroids=k_means.cluster_centers_"
   ]
  },
  {
   "cell_type": "markdown",
   "metadata": {},
   "source": [
    "## Plot the results\n",
    "\n",
    "Here the results are plotted. "
   ]
  },
  {
   "cell_type": "code",
   "execution_count": null,
   "metadata": {},
   "outputs": [],
   "source": [
    "# Plot dataset and use the label as color\n",
    "plt.scatter(X_iris[:, 0], X_iris[:, 1], c=labels.astype(np.float), cmap='Set1')\n",
    "\n",
    "# Add K-mean centroids\n",
    "plt.scatter(centroids[:, 0], centroids[:, 1], marker='*', s=200, linewidths=4, c='g')\n",
    "\n",
    "plt.show()"
   ]
  }
 ],
 "metadata": {
  "kernelspec": {
   "display_name": "Python 3",
   "language": "python",
   "name": "python3"
  },
  "language_info": {
   "codemirror_mode": {
    "name": "ipython",
    "version": 3
   },
   "file_extension": ".py",
   "mimetype": "text/x-python",
   "name": "python",
   "nbconvert_exporter": "python",
   "pygments_lexer": "ipython3",
   "version": "3.6.2"
  }
 },
 "nbformat": 4,
 "nbformat_minor": 2
}
